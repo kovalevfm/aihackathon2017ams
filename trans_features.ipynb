{
 "cells": [
  {
   "cell_type": "code",
   "execution_count": 11,
   "metadata": {
    "collapsed": true
   },
   "outputs": [],
   "source": [
    "import gzip\n",
    "import json\n",
    "import numpy as np"
   ]
  },
  {
   "cell_type": "code",
   "execution_count": 14,
   "metadata": {
    "collapsed": false
   },
   "outputs": [],
   "source": [
    "f = gzip.open('kaggle_f_n_t_trans_features.txt.gz')\n",
    "f_res = gzip.open('kaggle_trans_feat.txt.gz', 'w')\n",
    "uuid = None\n",
    "trans_features = np.zeros(500)\n",
    "for l in f:\n",
    "    ftrs = l.strip('\\n').split('\\t')\n",
    "    cur_uuid = ftrs[0]\n",
    "    trans_ftrs = np.array(map(float, ftrs[-1].split(' ')[1:]))\n",
    "    if cur_uuid != uuid:\n",
    "        if uuid:\n",
    "            f_res.write('{0}\\t{1}\\n'.format(uuid, json.dumps(list(trans_features))))\n",
    "            trans_features = np.zeros(500)\n",
    "        uuid = cur_uuid\n",
    "    trans_features += trans_ftrs\n",
    "f_res.write('{0}\\t{1}\\n'.format(uuid, json.dumps(list(trans_features))))\n",
    "f_res.close()\n",
    "    \n"
   ]
  },
  {
   "cell_type": "code",
   "execution_count": null,
   "metadata": {
    "collapsed": true
   },
   "outputs": [],
   "source": []
  }
 ],
 "metadata": {
  "kernelspec": {
   "display_name": "Python 2",
   "language": "python",
   "name": "python2"
  },
  "language_info": {
   "codemirror_mode": {
    "name": "ipython",
    "version": 2
   },
   "file_extension": ".py",
   "mimetype": "text/x-python",
   "name": "python",
   "nbconvert_exporter": "python",
   "pygments_lexer": "ipython2",
   "version": "2.7.12"
  }
 },
 "nbformat": 4,
 "nbformat_minor": 0
}
