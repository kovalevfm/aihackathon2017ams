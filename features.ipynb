{
 "cells": [
  {
   "cell_type": "code",
   "execution_count": 19,
   "metadata": {
    "collapsed": true
   },
   "outputs": [],
   "source": [
    "import re\n",
    "import nltk\n",
    "import json\n",
    "import gzip\n",
    "import pandas as pd\n",
    "porter = nltk.PorterStemmer()\n",
    "del_non_letters = re.compile(ur'[^a-z ]')"
   ]
  },
  {
   "cell_type": "code",
   "execution_count": 3,
   "metadata": {
    "collapsed": false
   },
   "outputs": [
    {
     "data": {
      "text/plain": [
       "'safvsv dsv'"
      ]
     },
     "execution_count": 3,
     "metadata": {},
     "output_type": "execute_result"
    }
   ],
   "source": [
    "del_non_letters.sub('', \"safvsv 'dsv\")"
   ]
  },
  {
   "cell_type": "code",
   "execution_count": 2,
   "metadata": {
    "collapsed": true
   },
   "outputs": [],
   "source": [
    "persons = list(l.strip().decode('utf-8') for l in open('persons.txt'))"
   ]
  },
  {
   "cell_type": "code",
   "execution_count": 6,
   "metadata": {
    "collapsed": false
   },
   "outputs": [
    {
     "data": {
      "text/plain": [
       "[u'doug band', u'tim kaine', u'rick']"
      ]
     },
     "execution_count": 6,
     "metadata": {},
     "output_type": "execute_result"
    }
   ],
   "source": [
    "persons[:3]"
   ]
  },
  {
   "cell_type": "code",
   "execution_count": 3,
   "metadata": {
    "collapsed": false
   },
   "outputs": [
    {
     "data": {
      "text/plain": [
       "[frozenset({u'band', u'doug'}),\n",
       " frozenset({u'kain', u'tim'}),\n",
       " frozenset({u'rick'})]"
      ]
     },
     "execution_count": 3,
     "metadata": {},
     "output_type": "execute_result"
    }
   ],
   "source": [
    "# porter.stem()\n",
    "def norm_name(name):\n",
    "    return frozenset(sorted(del_non_letters.sub(u'', porter.stem(w)) for w in nltk.word_tokenize(name)))\n",
    "persons_norm = list(norm_name(n) for n in persons)\n",
    "persons_norm[:3]"
   ]
  },
  {
   "cell_type": "code",
   "execution_count": 4,
   "metadata": {
    "collapsed": false
   },
   "outputs": [
    {
     "data": {
      "text/plain": [
       "[frozenset({u'f', u'john', u'kennedi'}),\n",
       " frozenset({u'joseph', u'paul', u'watson'}),\n",
       " frozenset({u'craig', u'paul', u'robert'})]"
      ]
     },
     "execution_count": 4,
     "metadata": {},
     "output_type": "execute_result"
    }
   ],
   "source": [
    "srt_persons_norm = sorted(persons_norm, key=lambda x : len(x), reverse=True)\n",
    "srt_persons_norm[:3]"
   ]
  },
  {
   "cell_type": "code",
   "execution_count": 5,
   "metadata": {
    "collapsed": false
   },
   "outputs": [
    {
     "data": {
      "text/plain": [
       "(212, 318)"
      ]
     },
     "execution_count": 5,
     "metadata": {},
     "output_type": "execute_result"
    }
   ],
   "source": [
    "\n",
    "unique_names = set()\n",
    "\n",
    "for i, p in enumerate(srt_persons_norm):\n",
    "    repeated = False\n",
    "    for s in unique_names:\n",
    "        if s > p:\n",
    "            repeated = True\n",
    "            break\n",
    "    if not repeated:\n",
    "        unique_names.add(p)\n",
    "len(unique_names), len(srt_persons_norm)"
   ]
  },
  {
   "cell_type": "code",
   "execution_count": 11,
   "metadata": {
    "collapsed": false,
    "scrolled": true
   },
   "outputs": [
    {
     "name": "stdout",
     "output_type": "stream",
     "text": [
      "abedin huma\n",
      "adolf hitler\n",
      "al gore\n",
      "alex jone\n",
      "allen\n",
      "ami goodman\n",
      "ami moreno\n",
      "ammon bundi\n",
      "anthoni weiner\n",
      "aoun\n",
      "arnaldo rodger\n",
      "ash carter\n",
      "assad bashar\n",
      "austin fitt\n",
      "band doug\n",
      "barack obama\n",
      "bashar alassad\n",
      "benjamin netanyahu\n",
      "berni sander\n",
      "bernish clair\n",
      "beyonc\n",
      "biden joe\n",
      "bill clinton\n",
      "billi okeef\n",
      "black\n",
      "bob\n",
      "brazil donna\n",
      "breitbart\n",
      "bret baier\n",
      "brexit\n",
      "brown\n",
      "burton\n",
      "bush w georg\n",
      "carney jay\n",
      "chaffetz jason\n",
      "charl\n",
      "chavez hugo\n",
      "cheryl mill\n",
      "chomski\n",
      "christ jesu\n",
      "christi\n",
      "clapper jame\n",
      "clinton chelsea\n",
      "clinton hilari\n",
      "cohen\n",
      "cooper\n",
      "craig paul robert\n",
      "cruz ted\n",
      "daesh\n",
      "daniel\n",
      "davi\n",
      "dick cheney\n",
      "donald j trump\n",
      "doss\n",
      "duke david\n",
      "dunford\n",
      "durden tyler\n",
      "dylan\n",
      "eddi\n",
      "eichenwald kurt\n",
      "eisenhow\n",
      "elizabeth warren\n",
      "ellison\n",
      "eowyn\n",
      "erdogan\n",
      "eva\n",
      "evan mcmullin\n",
      "farag nigel\n",
      "ferguson\n",
      "flower\n",
      "flynn\n",
      "fox\n",
      "franci pope\n",
      "fukushima\n",
      "gaddafi muammar\n",
      "geoffrey grider\n",
      "giuliani rudi\n",
      "glen ford\n",
      "gruber\n",
      "hamilton\n",
      "hanniti sean\n",
      "hayden\n",
      "hebdo charli\n",
      "hill\n",
      "hillaryclinton\n",
      "hodg dave\n",
      "holder eric\n",
      "holland\n",
      "hw georg\n",
      "ick\n",
      "ivanka trump\n",
      "j arnoldski\n",
      "jackson\n",
      "jame comey\n",
      "jason ditz\n",
      "jeffrey epstein\n",
      "jennif palmieri\n",
      "jfk\n",
      "jill stein\n",
      "jim\n",
      "jimmi carter\n",
      "john bolton\n",
      "john kasich\n",
      "john kerri\n",
      "john mccain\n",
      "john pilger\n",
      "john podesta\n",
      "johnson gari\n",
      "julian assang\n",
      "kain tim\n",
      "kelci warren\n",
      "kelli megyn\n",
      "kellyann conway\n",
      "kennedi john f\n",
      "khan\n",
      "kim\n",
      "kirbi john\n",
      "kissing henri\n",
      "kuznetsov\n",
      "kyle\n",
      "lavrov\n",
      "lena dunham\n",
      "lesley stahl\n",
      "lewinski monica\n",
      "loretta lynch\n",
      "maduro\n",
      "manchanda\n",
      "martin\n",
      "matthew\n",
      "may theresa\n",
      "mccabe andrew\n",
      "mccarthi\n",
      "merkel angela\n",
      "michel obama\n",
      "mike adam\n",
      "mike penc\n",
      "miller\n",
      "mitt romney\n",
      "modi\n",
      "moham\n",
      "mook robbi\n",
      "moor michael\n",
      "morri\n",
      "muhammad\n",
      "mumford\n",
      "newt gingrich\n",
      "nuland victoria\n",
      "obamacar\n",
      "paul joseph watson\n",
      "paul krugman\n",
      "paul ron\n",
      "paul ryan\n",
      "pelosi nanci\n",
      "pen le\n",
      "peter kadzik\n",
      "pieczenik\n",
      "poroshenko\n",
      "powel colin\n",
      "putin vladimir\n",
      "raqqa\n",
      "reid harri\n",
      "reno\n",
      "rich marc\n",
      "richard nixon\n",
      "robert creamer\n",
      "robert parri\n",
      "rodham hillari clinton\n",
      "rodrigo dutert\n",
      "ronald reagan\n",
      "rose\n",
      "rubio marco\n",
      "ryan bundi\n",
      "saakashvili\n",
      "saddam hussein\n",
      "saker\n",
      "sandler\n",
      "schumer\n",
      "scott foval\n",
      "shapiro\n",
      "sharpton\n",
      "smith\n",
      "snowden edward\n",
      "snyder michael\n",
      "soro georg\n",
      "stalin\n",
      "stephen\n",
      "steve bannon\n",
      "steven\n",
      "stockman david\n",
      "stoltenberg jen\n",
      "stone roger\n",
      "tanden\n",
      "terri mcauliff\n",
      "tesla\n",
      "thierri meyssan\n",
      "thoma jefferson\n",
      "thompson\n",
      "tom\n",
      "toni podesta\n",
      "trump melania\n",
      "venu\n",
      "vinc foster\n",
      "walsh joe\n",
      "washington georg\n",
      "weld\n",
      "wikileak\n",
      "wile rick\n",
      "william danney\n",
      "worsley\n",
      "yglesia\n",
      "zika\n",
      "zuckerberg mark\n"
     ]
    }
   ],
   "source": [
    "print \"\\n\".join(sorted(\" \".join(n) for n in unique_names))"
   ]
  },
  {
   "cell_type": "code",
   "execution_count": 6,
   "metadata": {
    "collapsed": false
   },
   "outputs": [],
   "source": [
    "from collections import defaultdict\n",
    "f = gzip.open('kaggle_f_n_t_sentences.txt.gz')\n",
    "\n",
    "uuid = None\n",
    "persons_dict = defaultdict(float)\n",
    "uuid_features = []\n",
    "\n",
    "all_persons_words = set()\n",
    "for p in unique_names:\n",
    "    all_persons_words.update(p)\n",
    "\n",
    "unique_names_cache = {}\n",
    "def get_unique_name(name):\n",
    "    if name in unique_names_cache:\n",
    "        return unique_names_cache.get(name)\n",
    "    n_name = norm_name(name)\n",
    "    for w in n_name:\n",
    "        if w not in all_persons_words:\n",
    "            return None\n",
    "    for s in unique_names:\n",
    "        if s >= n_name:\n",
    "            unique_names_cache[name] = s\n",
    "            return s\n",
    "    return None\n",
    "\n"
   ]
  },
  {
   "cell_type": "code",
   "execution_count": 17,
   "metadata": {
    "collapsed": false
   },
   "outputs": [],
   "source": [
    "trans_dict = {}\n",
    "f = gzip.open('kaggle_trans_feat.txt.gz')\n",
    "for i, l in enumerate(f):\n",
    "    uuid, feat = l.strip('\\n').split('\\t')\n",
    "    trans_dict[uuid] = json.loads(feat)\n",
    "    "
   ]
  },
  {
   "cell_type": "code",
   "execution_count": 28,
   "metadata": {
    "collapsed": false
   },
   "outputs": [],
   "source": [
    "tbl2 = pd.read_csv('data_sample.csv')\n",
    "web_features = {}\n",
    "ground_true = {}\n",
    "tbl2 = tbl2.fillna(0)\n",
    "# domain_rank, spam_score, replies_count, participants_count, likes, comments, shares\n",
    "for row in tbl2.iterrows():\n",
    "    if row[1]['language'] != 'english':\n",
    "        continue\n",
    "    ground_true[row[1]['uuid']] = 1 if row[1]['type'] == 'ok' else 0\n",
    "    web_features[row[1]['uuid']] = [row[1]['domain_rank'], row[1]['spam_score'],\n",
    "                                   row[1]['replies_count'],row[1]['participants_count'],\n",
    "                                   row[1]['likes'],row[1]['comments'],\n",
    "                                   row[1]['shares']]\n",
    "columns = ['domain_rank', 'spam_score', 'replies_count', 'participants_count', 'likes', 'comments', 'shares']"
   ]
  },
  {
   "cell_type": "code",
   "execution_count": 29,
   "metadata": {
    "collapsed": false
   },
   "outputs": [],
   "source": [
    "names = sorted(\" \".join(n) for n in unique_names)\n",
    "def make_features(persons):\n",
    "    p2 = dict((k, v+0.5 if v>=0 else v-0.5) for k, v in persons.iteritems())\n",
    "    return list((p.replace(' ', '_'), p2.get(p, 0)) for p in names)\n",
    "\n",
    "f = open('uuid_feat.txt')\n",
    "f_res = open('final_feat.txt', 'w')\n",
    "f_res.write(\"uuid\\tground_true\\t{0}\\tpos\\tneg\\t{1}\\t{2}\\n\".format(\n",
    "                    \"\\t\".join(columns),\n",
    "                    \"\\t\".join(p.replace(' ', '_') for p in names),\n",
    "                    '\\t'.join(\"t{0}\".format(i) for i in range(500))))\n",
    "for i, l in enumerate(f):\n",
    "    l = l.strip('\\n').split('\\t')\n",
    "    if l[0] not in ground_true:\n",
    "        continue\n",
    "    feat = make_features(json.loads(l[3]))\n",
    "    f_res.write(\"{0}\\t{1}\\t{2}\\t{3}\\t{4}\\t{5}\\t{6}\\n\".format(l[0],\n",
    "                                                             ground_true[l[0]],\n",
    "                                                             '\\t'.join(map(str, web_features[l[0]])),\n",
    "                                                             l[1], l[2], '\\t'.join(str(t[1]) for t in feat), '\\t'.join(map(str, trans_dict[l[0]]))))\n",
    "#     print l[0], l[1], l[2], l[3]\n",
    "#     if i > 20:\n",
    "#         break\n"
   ]
  },
  {
   "cell_type": "code",
   "execution_count": null,
   "metadata": {
    "collapsed": true
   },
   "outputs": [],
   "source": []
  }
 ],
 "metadata": {
  "kernelspec": {
   "display_name": "Python 2",
   "language": "python",
   "name": "python2"
  },
  "language_info": {
   "codemirror_mode": {
    "name": "ipython",
    "version": 2
   },
   "file_extension": ".py",
   "mimetype": "text/x-python",
   "name": "python",
   "nbconvert_exporter": "python",
   "pygments_lexer": "ipython2",
   "version": "2.7.12"
  }
 },
 "nbformat": 4,
 "nbformat_minor": 0
}
